import numpy as np
import pandas as pd
import matplotlib.pyplot as plt
import seaborn as sns
from sklearn.model_selection import train_test_split
from sklearn.preprocessing import StandardScaler, LabelEncoder
from sklearn.linear_model import LinearRegression
from sklearn.metrics import mean_squared_error, r2_score, mean_absolute_error
from sklearn.impute import SimpleImputer
import joblib
from sklearn.metrics import accuracy_score
from sklearn.ensemble import RandomForestClassifier





print("Loading Titanic dataset...")
df = sns.load_dataset('titanic')

print("✅ Dataset loaded successfully!")
print(f"\nShape: {df.shape}")
print(f"Features: {df.columns.tolist()}")
print(f"\nTarget variable: survived (1 = survived, 0 = did not survive)")

df.head(10)
 
print("=== Missing Values ===")
missing_values = df.isnull().sum()
print(missing_values[missing_values > 0])
print(f"\nTotal missing values: {df.isnull().sum().sum()}")


df_clean = df.copy()

age_imputer = SimpleImputer(strategy='median')
df_clean['age'] = age_imputer.fit_transform(df_clean[['age']])

mode_imputer = SimpleImputer(strategy='most_frequent')
df_clean['embarked'] = mode_imputer.fit_transform(df_clean[['embarked']]).ravel()
df_clean['embark_town'] = mode_imputer.fit_transform(df_clean[['embark_town']]).ravel()

df_clean['deck'] = df_clean['deck'].cat.add_categories(['Unknown'])
df_clean['deck'] = df_clean['deck'].fillna('Unknown')


print("new missing values ::::::::::: \n")
print(df_clean.isnull().sum())

print("////////////// cleaning ends ///////////////////// \n") 


X = pd.get_dummies(df_clean[['pclass','age','sibsp','parch','fare','sex','embarked','deck']], drop_first=True)
y = df_clean['survived']

X_train, X_test, y_train, y_test = train_test_split(X, y, test_size=0.2, random_state=42)

model = RandomForestClassifier(n_estimators=100, random_state=42)
model.fit(X_train, y_train)

y_pred = model.predict(X_test)
accuracy = accuracy_score(y_test, y_pred)
print(f"Accuracy: {accuracy:.2f}")


def predict_survival(**features):
    input_df = pd.DataFrame([features])
    input_df = pd.get_dummies(input_df)
    
  
    for col in X_train.columns:
        if col not in input_df.columns:
            input_df[col] = 0
    input_df = input_df[X_train.columns]
    
    prob = model.predict_proba(input_df)[:,1]
    return prob[0]



prob = predict_survival(
    pclass=3, age=40, sibsp=1, parch=0, fare=7.25,
    sex_male=0, embarked_Q=0, embarked_S=1, deck_Unknown=1
)
print(f"Survival probability: {prob:.2f}")
